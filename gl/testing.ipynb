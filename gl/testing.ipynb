{
 "cells": [
  {
   "attachments": {},
   "cell_type": "markdown",
   "metadata": {},
   "source": [
    "## High End Resale GL Report Processor\n",
    "\n",
    "GL Reports are a nightmare. The product of month's worth of transactions piled up into a single, horrifically messy text document, which Cougar Mountain can barely keep straight. The formatting is incredibly inconsistent. The fact that it relies on unreliable indentation to clarify between debits and credits. Arbitrary character limits. Hardcoded indices.\n",
    "\n",
    "Anyway, let's do our best to convert this horrific data display into a readable Excel document, by first going through JSON. Or maybe namedtuples.\n",
    "\n",
    "Note: I actually did this already. But I lost the code, so now I have to remake it. A lesson for the curious: always commit your code whenever it works. It will save you from lots of pain and sadness.\n",
    "\n",
    "### Layout\n",
    "\n",
    "The GL report is split into thousands of pages, each of which is separated by seven newlines. Each page contains a header, which is relatively useless information, and then there are three newlines leading into one or more section parts. Here's where the hard part starts.\n",
    "\n",
    "Each section contains a header line, which contains a (possibly decimal) number, four spaces, and a title. The title holds information about the type of section, and may contain a location (for example, Abdn or Hby). After the header, there is a completely useless line of column titles (same for every section, so it contains no useful information) and then a number of entries, which are usually one to three lines of information which may or may not be important, usually containing some amount of money (which can be positive or negative, but the only way to know for sure is unreliable indentation). If the section ends on the page, there will also be a \"balance forward\" row, then a row showing the total debits or credits of the entire section. If the section does not end, the next part of the section will have another header and then continue showing entries. All entries are in chronological order within sections, and at the end of every month, there is a \"totals for\" row showing the totals for the month. This can be used to check if entries were read correctly, and is also just good information to store.\n",
    "\n",
    "### The Game Plan\n",
    "\n",
    "Different section types require different types of processing. That said, there are important commonalities that we can and should take advantage of. For example, all sections have roughly the same high-level layout, they each are composed of some amount of entries (all of which are relatively similar) and of course Totals for processing is consistent across all section types. The first time I did this, I maintained a global Info dictionary that was updated by a swarm of line processing functions. Said line processing functions also updated the line index of a while loop that iterated line through line, and the while loop also checked for special lines, carrying progress across pages. I'll probably do something similar this time around because I don't think I can come up with a significantly better methodology. On the other hand, there are certainly imperfections that I can iron out. (Like the horrific inconsistency between different kinds of entries. That really isn't necessary here.)"
   ]
  },
  {
   "cell_type": "code",
   "execution_count": 1,
   "metadata": {},
   "outputs": [],
   "source": [
    "# Imports\n",
    "import pandas as pd\n",
    "from datetime import datetime\n",
    "from gl_processor import GLProcessor"
   ]
  },
  {
   "cell_type": "code",
   "execution_count": 2,
   "metadata": {},
   "outputs": [],
   "source": [
    "# Read file, split into pages\n",
    "yr = datetime.now().year\n",
    "with open(f\"GL{yr}.txt\", 'r') as f:\n",
    "    report = f.read()\n",
    "    pages = [p.strip() for p in report.split('\\n' * 7)]"
   ]
  },
  {
   "cell_type": "code",
   "execution_count": 3,
   "metadata": {},
   "outputs": [
    {
     "name": "stdout",
     "output_type": "stream",
     "text": [
      "{'Cash Float-{loc}': <bound method GLProcessor.process_cash_float of <gl_processor.GLProcessor object at 0x1277a74c0>>}\n"
     ]
    },
    {
     "ename": "IndexError",
     "evalue": "list index out of range",
     "output_type": "error",
     "traceback": [
      "\u001b[0;31m---------------------------------------------------------------------------\u001b[0m",
      "\u001b[0;31mIndexError\u001b[0m                                Traceback (most recent call last)",
      "Cell \u001b[0;32mIn[3], line 2\u001b[0m\n\u001b[1;32m      1\u001b[0m gl \u001b[39m=\u001b[39m GLProcessor(\u001b[39mf\u001b[39m\u001b[39m\"\u001b[39m\u001b[39mGL\u001b[39m\u001b[39m{\u001b[39;00myr\u001b[39m}\u001b[39;00m\u001b[39m.txt\u001b[39m\u001b[39m\"\u001b[39m)\n\u001b[0;32m----> 2\u001b[0m gl\u001b[39m.\u001b[39;49mprocess()\n",
      "File \u001b[0;32m~/Desktop/Colin/high-end-resale/gl/gl_processor.py:113\u001b[0m, in \u001b[0;36mGLProcessor.process\u001b[0;34m(self)\u001b[0m\n\u001b[1;32m    111\u001b[0m \u001b[39mfor\u001b[39;00m p \u001b[39min\u001b[39;00m \u001b[39mrange\u001b[39m(\u001b[39mlen\u001b[39m(\u001b[39mself\u001b[39m\u001b[39m.\u001b[39mpagelines)):\n\u001b[1;32m    112\u001b[0m     \u001b[39mself\u001b[39m\u001b[39m.\u001b[39mpage \u001b[39m=\u001b[39m p\n\u001b[0;32m--> 113\u001b[0m     \u001b[39mself\u001b[39;49m\u001b[39m.\u001b[39;49mline_loop()\n\u001b[1;32m    115\u001b[0m \u001b[39mfor\u001b[39;00m h \u001b[39min\u001b[39;00m \u001b[39mself\u001b[39m\u001b[39m.\u001b[39mheaders:\n\u001b[1;32m    116\u001b[0m     \u001b[39mprint\u001b[39m(\u001b[39mf\u001b[39m\u001b[39m\"\u001b[39m\u001b[39m{\u001b[39;00mh\u001b[39m}\u001b[39;00m\u001b[39m: \u001b[39m\u001b[39m{\u001b[39;00m\u001b[39mlen\u001b[39m(\u001b[39mself\u001b[39m\u001b[39m.\u001b[39mtransactions[h])\u001b[39m}\u001b[39;00m\u001b[39m transactions\u001b[39m\u001b[39m\"\u001b[39m)\n",
      "File \u001b[0;32m~/Desktop/Colin/high-end-resale/gl/gl_processor.py:94\u001b[0m, in \u001b[0;36mGLProcessor.line_loop\u001b[0;34m(self)\u001b[0m\n\u001b[1;32m     92\u001b[0m     \u001b[39mself\u001b[39m\u001b[39m.\u001b[39mline \u001b[39m+\u001b[39m\u001b[39m=\u001b[39m \u001b[39m1\u001b[39m\n\u001b[1;32m     93\u001b[0m \u001b[39melif\u001b[39;00m balfor(\u001b[39mself\u001b[39m\u001b[39m.\u001b[39mpagelines[p][\u001b[39mself\u001b[39m\u001b[39m.\u001b[39mline]):\n\u001b[0;32m---> 94\u001b[0m     deb, cred \u001b[39m=\u001b[39m extract_balances(\u001b[39mself\u001b[39;49m\u001b[39m.\u001b[39;49mpagelines[p][\u001b[39mself\u001b[39;49m\u001b[39m.\u001b[39;49mline])\n\u001b[1;32m     95\u001b[0m     \u001b[39mself\u001b[39m\u001b[39m.\u001b[39mbalance_forward[header] \u001b[39m=\u001b[39m [deb, cred]\n\u001b[1;32m     96\u001b[0m     \u001b[39mself\u001b[39m\u001b[39m.\u001b[39mline \u001b[39m+\u001b[39m\u001b[39m=\u001b[39m \u001b[39m2\u001b[39m\n",
      "File \u001b[0;32m~/Desktop/Colin/high-end-resale/gl/utils.py:61\u001b[0m, in \u001b[0;36mextract_balances\u001b[0;34m(line)\u001b[0m\n\u001b[1;32m     54\u001b[0m \u001b[39m\"\"\"\u001b[39;00m\n\u001b[1;32m     55\u001b[0m \u001b[39mExtract the balances from a balance forward line.\u001b[39;00m\n\u001b[1;32m     56\u001b[0m \u001b[39mIndex 0 is debits, index 1 is credits.\u001b[39;00m\n\u001b[1;32m     57\u001b[0m \u001b[39m\"\"\"\u001b[39;00m\n\u001b[1;32m     59\u001b[0m line \u001b[39m=\u001b[39m line\u001b[39m.\u001b[39mreplace(\u001b[39m'\u001b[39m\u001b[39m,\u001b[39m\u001b[39m'\u001b[39m, \u001b[39m'\u001b[39m\u001b[39m'\u001b[39m)\n\u001b[1;32m     60\u001b[0m \u001b[39mreturn\u001b[39;00m (\n\u001b[0;32m---> 61\u001b[0m     Decimal(re\u001b[39m.\u001b[39;49mfindall(\u001b[39mr\u001b[39;49m\u001b[39m\"\u001b[39;49m\u001b[39m\\\u001b[39;49m\u001b[39md+\u001b[39;49m\u001b[39m\\\u001b[39;49m\u001b[39m.\u001b[39;49m\u001b[39m\\\u001b[39;49m\u001b[39md\u001b[39;49m\u001b[39m\\\u001b[39;49m\u001b[39md\u001b[39;49m\u001b[39m\"\u001b[39;49m, line)[\u001b[39m1\u001b[39;49m]),\n\u001b[1;32m     62\u001b[0m     Decimal(re\u001b[39m.\u001b[39mfindall(\u001b[39mr\u001b[39m\u001b[39m\"\u001b[39m\u001b[39m\\\u001b[39m\u001b[39md+\u001b[39m\u001b[39m\\\u001b[39m\u001b[39m.\u001b[39m\u001b[39m\\\u001b[39m\u001b[39md\u001b[39m\u001b[39m\\\u001b[39m\u001b[39md\u001b[39m\u001b[39m\"\u001b[39m, line)[\u001b[39m2\u001b[39m])\n\u001b[1;32m     63\u001b[0m )\n",
      "\u001b[0;31mIndexError\u001b[0m: list index out of range"
     ]
    }
   ],
   "source": [
    "gl = GLProcessor(f\"GL{yr}.txt\")\n",
    "gl.process()"
   ]
  },
  {
   "cell_type": "code",
   "execution_count": 4,
   "metadata": {},
   "outputs": [
    {
     "data": {
      "text/plain": [
       "{'Cash Float-Ware': <function gl_processor.GLProcessor.__init__.<locals>.<lambda>(loc='Ware')>,\n",
       " 'Cash Float-Hby': <function gl_processor.GLProcessor.__init__.<locals>.<lambda>(loc='Hby')>,\n",
       " 'Cash Float-Abdn': <function gl_processor.GLProcessor.__init__.<locals>.<lambda>(loc='Abdn')>}"
      ]
     },
     "execution_count": 4,
     "metadata": {},
     "output_type": "execute_result"
    }
   ],
   "source": [
    "gl.headers"
   ]
  },
  {
   "cell_type": "code",
   "execution_count": null,
   "metadata": {},
   "outputs": [],
   "source": []
  }
 ],
 "metadata": {
  "kernelspec": {
   "display_name": "Python 3",
   "language": "python",
   "name": "python3"
  },
  "language_info": {
   "codemirror_mode": {
    "name": "ipython",
    "version": 3
   },
   "file_extension": ".py",
   "mimetype": "text/x-python",
   "name": "python",
   "nbconvert_exporter": "python",
   "pygments_lexer": "ipython3",
   "version": "3.9.15"
  },
  "orig_nbformat": 4,
  "vscode": {
   "interpreter": {
    "hash": "d290f558daf02061fbea28ba87bd08ad5fecb9486564d8c936f96bf8c9dcbf99"
   }
  }
 },
 "nbformat": 4,
 "nbformat_minor": 2
}

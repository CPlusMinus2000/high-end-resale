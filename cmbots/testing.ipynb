{
 "cells": [
  {
   "cell_type": "code",
   "execution_count": 120,
   "metadata": {},
   "outputs": [],
   "source": [
    "import time\n",
    "from typing import List\n",
    "\n",
    "import pandas as pd\n",
    "from dataclasses import dataclass\n",
    "from platform import platform\n",
    "\n",
    "if \"Windows\" in platform():\n",
    "    from pywinauto.keyboard import send_keys\n",
    "\n",
    "\n",
    "@dataclass\n",
    "class Entry:\n",
    "    index: str = \"\"\n",
    "    code: str = \"\"\n",
    "    description: str = \"\"\n",
    "    location: str = \"\"\n",
    "    quantity: str = \"\"\n",
    "    cost: str = \"\"\n",
    "    price: str = \"\"\n",
    "    notes: str = \"\"\n",
    "\n",
    "    def __getitem__(self, key):\n",
    "        return getattr(self, key)\n",
    "    \n",
    "    def __setitem__(self, key, value):\n",
    "        setattr(self, key, value)\n",
    "\n",
    "attrs = {\n",
    "    \"index\": '#',\n",
    "    \"code\": \"Stock#\",\n",
    "    \"description\": \"Description\",\n",
    "    \"cost\": \"Cost\",\n",
    "}\n",
    "\n",
    "# So here's how the bot is going to need to work\n",
    "# Step 1: Read the Excel sheet\n",
    "# Do this by opening every page in the spreadsheet using pandas\n",
    "# and then read row by row to assemble a list of entries\n",
    "\n",
    "entries: List[Entry] = []\n",
    "dfs = pd.read_excel(\"cougarbot_data/stock.xls\", sheet_name=None)\n",
    "for sheet_name, df in dfs.items():\n",
    "    df = df.astype(str)\n",
    "    titles = list(df.iloc[0])\n",
    "    indices = {\n",
    "        attr: titles.index(value) + 1 for attr, value in attrs.items()\n",
    "    }\n",
    "\n",
    "    indices[\"price\"] = titles.index(\"Cost\") + 3\n",
    "    qindex = titles.index(\"Abdn\") + 1\n",
    "    for row in df.itertuples():\n",
    "        if row[indices[\"index\"]] not in [\"nan\", '#']:\n",
    "            if row[qindex + 1] == \"nan\" or row[qindex] == 'X':\n",
    "                entry = Entry()\n",
    "                for attr, index in indices.items():\n",
    "                    entry[attr] = row[index]\n",
    "\n",
    "                q = row[qindex] if row[qindex].isnumeric() else '1'\n",
    "                entry[\"quantity\"] = q\n",
    "                entry[\"location\"] = \"ABDN\"\n",
    "                entries.append(entry)\n",
    "\n",
    "            if row[qindex + 1] != \"nan\":\n",
    "                entry = Entry()\n",
    "                for attr, index in indices.items():\n",
    "                    entry[attr] = row[index]\n",
    "\n",
    "                q = '1' if row[qindex + 1] == 'X' else row[qindex + 1]\n",
    "                entry[\"quantity\"] = q\n",
    "                entry[\"location\"] = \"HBY\"\n",
    "                entries.append(entry)"
   ]
  },
  {
   "cell_type": "code",
   "execution_count": 123,
   "metadata": {},
   "outputs": [],
   "source": [
    "with open(\"cougarbot_data/signs.txt\", 'r') as f:\n",
    "    signs = f.read().split(\"\\n\\n\")\n",
    "\n",
    "x = {}\n",
    "for s in signs:\n",
    "    i, t = s.splitlines()\n",
    "    x[i.strip('.')] = t.split(\"   \")[0].strip()"
   ]
  }
 ],
 "metadata": {
  "kernelspec": {
   "display_name": "Python 3.8.15 ('her')",
   "language": "python",
   "name": "python3"
  },
  "language_info": {
   "codemirror_mode": {
    "name": "ipython",
    "version": 3
   },
   "file_extension": ".py",
   "mimetype": "text/x-python",
   "name": "python",
   "nbconvert_exporter": "python",
   "pygments_lexer": "ipython3",
   "version": "3.8.15"
  },
  "orig_nbformat": 4,
  "vscode": {
   "interpreter": {
    "hash": "5c89b6aea5df3dfeceaf834bb21948f84466a779a19af231a0d15326713ea511"
   }
  }
 },
 "nbformat": 4,
 "nbformat_minor": 2
}

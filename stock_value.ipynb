{
 "cells": [
  {
   "cell_type": "code",
   "execution_count": 31,
   "metadata": {},
   "outputs": [],
   "source": [
    "import pandas as pd\n",
    "import json\n",
    "import pyperclip\n",
    "\n",
    "from collections import namedtuple\n",
    "from decimal import Decimal"
   ]
  },
  {
   "cell_type": "code",
   "execution_count": 32,
   "metadata": {},
   "outputs": [],
   "source": [
    "with open(\"cougar_data/stock_value.txt\", 'r') as f:\n",
    "    stock_lines = f.readlines()"
   ]
  },
  {
   "cell_type": "code",
   "execution_count": 33,
   "metadata": {},
   "outputs": [],
   "source": [
    "def is_stock_line(line):\n",
    "    if not line.strip() or not line.split():\n",
    "        return False\n",
    "    \n",
    "    s = line.split()[0]\n",
    "    if '-' not in s or s != s.upper():\n",
    "        return False\n",
    "    \n",
    "    last = s.split('-')[1][-4:]\n",
    "    return len(s) <= 9 and (last.isdigit() or last.isalpha())"
   ]
  },
  {
   "cell_type": "code",
   "execution_count": 34,
   "metadata": {},
   "outputs": [],
   "source": [
    "with open(\"stock_lines.json\", 'w') as f:\n",
    "    json.dump([line.split()[0] for line in stock_lines if is_stock_line(line)], f, indent=4)"
   ]
  },
  {
   "cell_type": "code",
   "execution_count": 35,
   "metadata": {},
   "outputs": [],
   "source": [
    "StockItem = namedtuple(\"StockItem\", [\n",
    "    \"number\", \"description\", \"quantity\",\n",
    "    \"location\", \"price\", \"total\", \"value\", \"equal\"\n",
    "])"
   ]
  },
  {
   "cell_type": "code",
   "execution_count": 36,
   "metadata": {},
   "outputs": [],
   "source": [
    "i = prev = 0\n",
    "wrong = []\n",
    "stock_items = []\n",
    "while i < len(stock_lines):\n",
    "    if is_stock_line(stock_lines[i]):\n",
    "        l = stock_lines[i]\n",
    "        m = stock_lines[i + 1].replace(\".0000\", \" \", 1)\n",
    "        m = m.replace('(', '-').replace(')', ' ')\n",
    "        number = l.split()[0]\n",
    "        description = l[10:l.index(\"FIFO\")].strip()\n",
    "        location = m.split()[0]\n",
    "        quantity = int(m.split()[1])\n",
    "        price = round(Decimal(m.split()[2]), 2)\n",
    "        value = round(Decimal(m.split()[3].replace(',', '')), 2)\n",
    "        equal = \"YES\"\n",
    "        if value != quantity * price:\n",
    "            wrong.append((i, description))\n",
    "            equal = \"NO\"\n",
    "\n",
    "        stock_items.append(StockItem(\n",
    "            number, description, quantity,\n",
    "            location, price, quantity * price, value, equal\n",
    "        ))\n",
    "\n",
    "        # Safety check\n",
    "        if 2 < i - prev < 5:\n",
    "            raise ValueError(\"Something wrong at line {}\".format(i))\n",
    "        \n",
    "        prev = i\n",
    "\n",
    "    i += 2"
   ]
  },
  {
   "cell_type": "code",
   "execution_count": 37,
   "metadata": {},
   "outputs": [
    {
     "data": {
      "text/html": [
       "<div>\n",
       "<style scoped>\n",
       "    .dataframe tbody tr th:only-of-type {\n",
       "        vertical-align: middle;\n",
       "    }\n",
       "\n",
       "    .dataframe tbody tr th {\n",
       "        vertical-align: top;\n",
       "    }\n",
       "\n",
       "    .dataframe thead th {\n",
       "        text-align: right;\n",
       "    }\n",
       "</style>\n",
       "<table border=\"1\" class=\"dataframe\">\n",
       "  <thead>\n",
       "    <tr style=\"text-align: right;\">\n",
       "      <th></th>\n",
       "      <th>number</th>\n",
       "      <th>description</th>\n",
       "      <th>quantity</th>\n",
       "      <th>location</th>\n",
       "      <th>price</th>\n",
       "      <th>total</th>\n",
       "      <th>value</th>\n",
       "      <th>equal</th>\n",
       "    </tr>\n",
       "  </thead>\n",
       "  <tbody>\n",
       "    <tr>\n",
       "      <th>0</th>\n",
       "      <td>121A-0258</td>\n",
       "      <td>acc,cash,shawl,hermes,ori</td>\n",
       "      <td>1</td>\n",
       "      <td>HBY</td>\n",
       "      <td>625.00</td>\n",
       "      <td>625.00</td>\n",
       "      <td>625.00</td>\n",
       "      <td>YES</td>\n",
       "    </tr>\n",
       "    <tr>\n",
       "      <th>1</th>\n",
       "      <td>126B-0004</td>\n",
       "      <td>hb,lthr,see-by-chloe,two-</td>\n",
       "      <td>1</td>\n",
       "      <td>HBY</td>\n",
       "      <td>190.00</td>\n",
       "      <td>190.00</td>\n",
       "      <td>190.00</td>\n",
       "      <td>YES</td>\n",
       "    </tr>\n",
       "    <tr>\n",
       "      <th>2</th>\n",
       "      <td>172B-0003</td>\n",
       "      <td>acc,sun-gls,chanel,orig-c</td>\n",
       "      <td>1</td>\n",
       "      <td>HBY</td>\n",
       "      <td>64.00</td>\n",
       "      <td>64.00</td>\n",
       "      <td>64.00</td>\n",
       "      <td>YES</td>\n",
       "    </tr>\n",
       "    <tr>\n",
       "      <th>3</th>\n",
       "      <td>1A01-1112</td>\n",
       "      <td>pin,gp,mosiac,horseshoe,1</td>\n",
       "      <td>1</td>\n",
       "      <td>ABDN</td>\n",
       "      <td>30.00</td>\n",
       "      <td>30.00</td>\n",
       "      <td>30.00</td>\n",
       "      <td>YES</td>\n",
       "    </tr>\n",
       "    <tr>\n",
       "      <th>4</th>\n",
       "      <td>1B02-2032</td>\n",
       "      <td>hb,fur,maurizio-taiuti,2h</td>\n",
       "      <td>1</td>\n",
       "      <td>HBY</td>\n",
       "      <td>65.00</td>\n",
       "      <td>65.00</td>\n",
       "      <td>65.00</td>\n",
       "      <td>YES</td>\n",
       "    </tr>\n",
       "  </tbody>\n",
       "</table>\n",
       "</div>"
      ],
      "text/plain": [
       "      number                description  quantity location   price   total  \\\n",
       "0  121A-0258  acc,cash,shawl,hermes,ori         1      HBY  625.00  625.00   \n",
       "1  126B-0004  hb,lthr,see-by-chloe,two-         1      HBY  190.00  190.00   \n",
       "2  172B-0003  acc,sun-gls,chanel,orig-c         1      HBY   64.00   64.00   \n",
       "3  1A01-1112  pin,gp,mosiac,horseshoe,1         1     ABDN   30.00   30.00   \n",
       "4  1B02-2032  hb,fur,maurizio-taiuti,2h         1      HBY   65.00   65.00   \n",
       "\n",
       "    value equal  \n",
       "0  625.00   YES  \n",
       "1  190.00   YES  \n",
       "2   64.00   YES  \n",
       "3   30.00   YES  \n",
       "4   65.00   YES  "
      ]
     },
     "execution_count": 37,
     "metadata": {},
     "output_type": "execute_result"
    }
   ],
   "source": [
    "# convert to dataframe\n",
    "df = pd.DataFrame(stock_items)\n",
    "df.head()"
   ]
  },
  {
   "cell_type": "code",
   "execution_count": 38,
   "metadata": {},
   "outputs": [],
   "source": [
    "# Convert to csv string and copy to clipboard\n",
    "pyperclip.copy(df.to_csv(sep='\\t', index=False))"
   ]
  },
  {
   "cell_type": "code",
   "execution_count": null,
   "metadata": {},
   "outputs": [],
   "source": []
  }
 ],
 "metadata": {
  "kernelspec": {
   "display_name": "Python 3.8.7 64-bit",
   "language": "python",
   "name": "python3"
  },
  "language_info": {
   "codemirror_mode": {
    "name": "ipython",
    "version": 3
   },
   "file_extension": ".py",
   "mimetype": "text/x-python",
   "name": "python",
   "nbconvert_exporter": "python",
   "pygments_lexer": "ipython3",
   "version": "3.8.7"
  },
  "orig_nbformat": 4,
  "vscode": {
   "interpreter": {
    "hash": "4ba37a3adaafb3b1ee492424a0a5922a7b1fbe0b6dbb950c987f8dd60b6a65c4"
   }
  }
 },
 "nbformat": 4,
 "nbformat_minor": 2
}

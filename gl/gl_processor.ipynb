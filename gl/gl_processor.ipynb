{
 "cells": [
  {
   "attachments": {},
   "cell_type": "markdown",
   "metadata": {},
   "source": [
    "## High End Resale GL Report Processor\n",
    "\n",
    "GL Reports are a nightmare. The product of month's worth of transactions piled up into a single, horrifically messy text document, which Cougar Mountain can barely keep straight. The formatting is incredibly inconsistent. The fact that it relies on unreliable indentation to clarify between debits and credits. Arbitrary character limits. Hardcoded indices.\n",
    "\n",
    "Anyway, let's do our best to convert this horrific data display into a readable Excel document, by first going through JSON. Or maybe namedtuples.\n",
    "\n",
    "Note: I actually did this already. But I lost the code, so now I have to remake it. A lesson for the curious: always commit your code whenever it works. It will save you from lots of pain and sadness.\n",
    "\n",
    "### Layout\n",
    "\n",
    "The GL report is split into thousands of pages, each of which is separated by seven newlines. Each page contains a header, which is relatively useless information, and then there are three newlines leading into one or more section parts. Here's where the hard part starts.\n",
    "\n",
    "Each section contains a header line, which contains a (possibly decimal) number, four spaces, and a title. The title holds information about the type of section, and may contain a location (for example, Abdn or Hby). After the header, there is a completely useless line of column titles (same for every section, so it contains no useful information) and then a number of entries, which are usually one to three lines of information which may or may not be important, usually containing some amount of money (which can be positive or negative, but the only way to know for sure is unreliable indentation). If the section ends on the page, there will also be a \"balance forward\" row, then a row showing the total debits or credits of the entire section. If the section does not end, the next part of the section will have another header and then continue showing entries. All entries are in chronological order within sections, and at the end of every month, there is a \"totals for\" row showing the totals for the month. This can be used to check if entries were read correctly, and is also just good information to store.\n",
    "\n",
    "### The Game Plan\n",
    "\n",
    "Different section types require different types of processing. That said, there are important commonalities that we can and should take advantage of. For example, all sections have roughly the same high-level layout, they each are composed of some amount of entries (all of which are relatively similar) and of course Totals for processing is consistent across all section types. The first time I did this, I maintained a global Info dictionary that was updated by a swarm of line processing functions. Said line processing functions also updated the line index of a while loop that iterated line through line, and the while loop also checked for special lines, carrying progress across pages. I'll probably do something similar this time around because I don't think I can come up with a significantly better methodology. On the other hand, there are certainly imperfections that I can iron out. (Like the horrific inconsistency between different kinds of entries. That really isn't necessary here.)"
   ]
  },
  {
   "cell_type": "code",
   "execution_count": null,
   "metadata": {},
   "outputs": [],
   "source": []
  }
 ],
 "metadata": {
  "kernelspec": {
   "display_name": "Python 3",
   "language": "python",
   "name": "python3"
  },
  "language_info": {
   "name": "python",
   "version": "3.9.15 (main, Dec 23 2022, 13:26:32) \n[Clang 13.1.6 (clang-1316.0.21.2.5)]"
  },
  "orig_nbformat": 4,
  "vscode": {
   "interpreter": {
    "hash": "d290f558daf02061fbea28ba87bd08ad5fecb9486564d8c936f96bf8c9dcbf99"
   }
  }
 },
 "nbformat": 4,
 "nbformat_minor": 2
}
